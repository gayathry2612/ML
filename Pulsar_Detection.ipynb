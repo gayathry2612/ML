{
  "nbformat": 4,
  "nbformat_minor": 0,
  "metadata": {
    "colab": {
      "name": "Pulsar Detection.ipynb",
      "provenance": [],
      "collapsed_sections": [],
      "include_colab_link": true
    },
    "kernelspec": {
      "name": "python3",
      "display_name": "Python 3"
    }
  },
  "cells": [
    {
      "cell_type": "markdown",
      "metadata": {
        "id": "view-in-github",
        "colab_type": "text"
      },
      "source": [
        "<a href=\"https://colab.research.google.com/github/swaingotnochill/ML/blob/master/Pulsar_Detection.ipynb\" target=\"_parent\"><img src=\"https://colab.research.google.com/assets/colab-badge.svg\" alt=\"Open In Colab\"/></a>"
      ]
    },
    {
      "cell_type": "code",
      "metadata": {
        "colab": {
          "resources": {
            "http://localhost:8080/nbextensions/google.colab/files.js": {
              "data": "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",
              "ok": true,
              "headers": [
                [
                  "content-type",
                  "application/javascript"
                ]
              ],
              "status": 200,
              "status_text": ""
            }
          },
          "base_uri": "https://localhost:8080/",
          "height": 72
        },
        "id": "27sMDvoqdNWH",
        "outputId": "84ab286c-e835-4a74-8fdc-581d3f8e8867"
      },
      "source": [
        "from google.colab import files\r\n",
        "uploaded = files.upload()"
      ],
      "execution_count": 2,
      "outputs": [
        {
          "output_type": "display_data",
          "data": {
            "text/html": [
              "\n",
              "     <input type=\"file\" id=\"files-42b1dcce-8aef-47e4-baf8-0b566003214d\" name=\"files[]\" multiple disabled\n",
              "        style=\"border:none\" />\n",
              "     <output id=\"result-42b1dcce-8aef-47e4-baf8-0b566003214d\">\n",
              "      Upload widget is only available when the cell has been executed in the\n",
              "      current browser session. Please rerun this cell to enable.\n",
              "      </output>\n",
              "      <script src=\"/nbextensions/google.colab/files.js\"></script> "
            ],
            "text/plain": [
              "<IPython.core.display.HTML object>"
            ]
          },
          "metadata": {
            "tags": []
          }
        },
        {
          "output_type": "stream",
          "text": [
            "Saving pulsar_data_train.csv to pulsar_data_train.csv\n"
          ],
          "name": "stdout"
        }
      ]
    },
    {
      "cell_type": "code",
      "metadata": {
        "id": "kgjukhfgdX2f"
      },
      "source": [
        "import pandas as pd"
      ],
      "execution_count": 3,
      "outputs": []
    },
    {
      "cell_type": "code",
      "metadata": {
        "colab": {
          "base_uri": "https://localhost:8080/"
        },
        "id": "Um3Me7Ur3lwX",
        "outputId": "7a84186d-e95d-4fbd-b1f3-f07fbcade17d"
      },
      "source": [
        "dataset= pd.read_csv('/content/pulsar_data_train.csv')\r\n",
        "print(dataset)"
      ],
      "execution_count": 4,
      "outputs": [
        {
          "output_type": "stream",
          "text": [
            "        Mean of the integrated profile  ...  target_class\n",
            "0                           121.156250  ...           0.0\n",
            "1                            76.968750  ...           0.0\n",
            "2                           130.585938  ...           0.0\n",
            "3                           156.398438  ...           0.0\n",
            "4                            84.804688  ...           0.0\n",
            "...                                ...  ...           ...\n",
            "12523                       124.312500  ...           0.0\n",
            "12524                       115.617188  ...           0.0\n",
            "12525                       116.031250  ...           0.0\n",
            "12526                       135.664062  ...           0.0\n",
            "12527                       120.726562  ...           0.0\n",
            "\n",
            "[12528 rows x 9 columns]\n"
          ],
          "name": "stdout"
        }
      ]
    },
    {
      "cell_type": "code",
      "metadata": {
        "colab": {
          "base_uri": "https://localhost:8080/"
        },
        "id": "QljzXerd5HJq",
        "outputId": "a3d7aab2-ca0b-44aa-eacf-2edf57f3ed8a"
      },
      "source": [
        "dataset_drop= dataset.copy()\r\n",
        "dataset_drop.columns"
      ],
      "execution_count": 10,
      "outputs": [
        {
          "output_type": "execute_result",
          "data": {
            "text/plain": [
              "Index([' Mean of the integrated profile',\n",
              "       ' Standard deviation of the integrated profile',\n",
              "       ' Excess kurtosis of the integrated profile',\n",
              "       ' Skewness of the integrated profile', ' Mean of the DM-SNR curve',\n",
              "       ' Standard deviation of the DM-SNR curve',\n",
              "       ' Excess kurtosis of the DM-SNR curve', ' Skewness of the DM-SNR curve',\n",
              "       'target_class'],\n",
              "      dtype='object')"
            ]
          },
          "metadata": {
            "tags": []
          },
          "execution_count": 10
        }
      ]
    },
    {
      "cell_type": "code",
      "metadata": {
        "colab": {
          "base_uri": "https://localhost:8080/"
        },
        "id": "t702hMj061on",
        "outputId": "ac7c341a-b09e-47f9-88e6-db2c6c38d101"
      },
      "source": [
        "dataset_drop=dataset_drop.dropna(axis=1)\r\n",
        "dataset_drop.columns"
      ],
      "execution_count": 11,
      "outputs": [
        {
          "output_type": "execute_result",
          "data": {
            "text/plain": [
              "Index([' Mean of the integrated profile',\n",
              "       ' Standard deviation of the integrated profile',\n",
              "       ' Skewness of the integrated profile', ' Mean of the DM-SNR curve',\n",
              "       ' Excess kurtosis of the DM-SNR curve', 'target_class'],\n",
              "      dtype='object')"
            ]
          },
          "metadata": {
            "tags": []
          },
          "execution_count": 11
        }
      ]
    },
    {
      "cell_type": "markdown",
      "metadata": {
        "id": "nQwXaA-16Dm0"
      },
      "source": [
        "Checking the columns or the features, I am going to work with. It is important to know these, because sometimes dataset has some parameters which might not be equally important for our work and we can work without that particular column, that can be known with more and more data visualisation. "
      ]
    },
    {
      "cell_type": "code",
      "metadata": {
        "colab": {
          "base_uri": "https://localhost:8080/"
        },
        "id": "XD7lRGGi4AWL",
        "outputId": "03a894ec-403a-4017-8c04-9e358048290c"
      },
      "source": [
        "dataset.columns"
      ],
      "execution_count": 12,
      "outputs": [
        {
          "output_type": "execute_result",
          "data": {
            "text/plain": [
              "Index([' Mean of the integrated profile',\n",
              "       ' Standard deviation of the integrated profile',\n",
              "       ' Excess kurtosis of the integrated profile',\n",
              "       ' Skewness of the integrated profile', ' Mean of the DM-SNR curve',\n",
              "       ' Standard deviation of the DM-SNR curve',\n",
              "       ' Excess kurtosis of the DM-SNR curve', ' Skewness of the DM-SNR curve',\n",
              "       'target_class'],\n",
              "      dtype='object')"
            ]
          },
          "metadata": {
            "tags": []
          },
          "execution_count": 12
        }
      ]
    },
    {
      "cell_type": "markdown",
      "metadata": {
        "id": "vVW2MJSz6Ymf"
      },
      "source": [
        "We can see there are 8-9 columns and for pulsars they look pretty important."
      ]
    },
    {
      "cell_type": "code",
      "metadata": {
        "colab": {
          "base_uri": "https://localhost:8080/",
          "height": 379
        },
        "id": "5W2zOfnm4FUl",
        "outputId": "3af6f0aa-5df8-45e6-e24d-c0d2ff5428cb"
      },
      "source": [
        "dataset.head(9)"
      ],
      "execution_count": 13,
      "outputs": [
        {
          "output_type": "execute_result",
          "data": {
            "text/html": [
              "<div>\n",
              "<style scoped>\n",
              "    .dataframe tbody tr th:only-of-type {\n",
              "        vertical-align: middle;\n",
              "    }\n",
              "\n",
              "    .dataframe tbody tr th {\n",
              "        vertical-align: top;\n",
              "    }\n",
              "\n",
              "    .dataframe thead th {\n",
              "        text-align: right;\n",
              "    }\n",
              "</style>\n",
              "<table border=\"1\" class=\"dataframe\">\n",
              "  <thead>\n",
              "    <tr style=\"text-align: right;\">\n",
              "      <th></th>\n",
              "      <th>Mean of the integrated profile</th>\n",
              "      <th>Standard deviation of the integrated profile</th>\n",
              "      <th>Excess kurtosis of the integrated profile</th>\n",
              "      <th>Skewness of the integrated profile</th>\n",
              "      <th>Mean of the DM-SNR curve</th>\n",
              "      <th>Standard deviation of the DM-SNR curve</th>\n",
              "      <th>Excess kurtosis of the DM-SNR curve</th>\n",
              "      <th>Skewness of the DM-SNR curve</th>\n",
              "      <th>target_class</th>\n",
              "    </tr>\n",
              "  </thead>\n",
              "  <tbody>\n",
              "    <tr>\n",
              "      <th>0</th>\n",
              "      <td>121.156250</td>\n",
              "      <td>48.372971</td>\n",
              "      <td>0.375485</td>\n",
              "      <td>-0.013165</td>\n",
              "      <td>3.168896</td>\n",
              "      <td>18.399367</td>\n",
              "      <td>7.449874</td>\n",
              "      <td>65.159298</td>\n",
              "      <td>0.0</td>\n",
              "    </tr>\n",
              "    <tr>\n",
              "      <th>1</th>\n",
              "      <td>76.968750</td>\n",
              "      <td>36.175557</td>\n",
              "      <td>0.712898</td>\n",
              "      <td>3.388719</td>\n",
              "      <td>2.399666</td>\n",
              "      <td>17.570997</td>\n",
              "      <td>9.414652</td>\n",
              "      <td>102.722975</td>\n",
              "      <td>0.0</td>\n",
              "    </tr>\n",
              "    <tr>\n",
              "      <th>2</th>\n",
              "      <td>130.585938</td>\n",
              "      <td>53.229534</td>\n",
              "      <td>0.133408</td>\n",
              "      <td>-0.297242</td>\n",
              "      <td>2.743311</td>\n",
              "      <td>22.362553</td>\n",
              "      <td>8.508364</td>\n",
              "      <td>74.031324</td>\n",
              "      <td>0.0</td>\n",
              "    </tr>\n",
              "    <tr>\n",
              "      <th>3</th>\n",
              "      <td>156.398438</td>\n",
              "      <td>48.865942</td>\n",
              "      <td>-0.215989</td>\n",
              "      <td>-0.171294</td>\n",
              "      <td>17.471572</td>\n",
              "      <td>NaN</td>\n",
              "      <td>2.958066</td>\n",
              "      <td>7.197842</td>\n",
              "      <td>0.0</td>\n",
              "    </tr>\n",
              "    <tr>\n",
              "      <th>4</th>\n",
              "      <td>84.804688</td>\n",
              "      <td>36.117659</td>\n",
              "      <td>0.825013</td>\n",
              "      <td>3.274125</td>\n",
              "      <td>2.790134</td>\n",
              "      <td>20.618009</td>\n",
              "      <td>8.405008</td>\n",
              "      <td>76.291128</td>\n",
              "      <td>0.0</td>\n",
              "    </tr>\n",
              "    <tr>\n",
              "      <th>5</th>\n",
              "      <td>121.007812</td>\n",
              "      <td>47.176944</td>\n",
              "      <td>0.229708</td>\n",
              "      <td>0.091336</td>\n",
              "      <td>2.036789</td>\n",
              "      <td>NaN</td>\n",
              "      <td>9.546051</td>\n",
              "      <td>112.131721</td>\n",
              "      <td>0.0</td>\n",
              "    </tr>\n",
              "    <tr>\n",
              "      <th>6</th>\n",
              "      <td>79.343750</td>\n",
              "      <td>42.402174</td>\n",
              "      <td>1.063413</td>\n",
              "      <td>2.244377</td>\n",
              "      <td>141.641304</td>\n",
              "      <td>NaN</td>\n",
              "      <td>-0.700809</td>\n",
              "      <td>-1.200653</td>\n",
              "      <td>0.0</td>\n",
              "    </tr>\n",
              "    <tr>\n",
              "      <th>7</th>\n",
              "      <td>109.406250</td>\n",
              "      <td>55.912521</td>\n",
              "      <td>0.565106</td>\n",
              "      <td>0.056247</td>\n",
              "      <td>2.797659</td>\n",
              "      <td>19.496527</td>\n",
              "      <td>9.443282</td>\n",
              "      <td>97.374578</td>\n",
              "      <td>0.0</td>\n",
              "    </tr>\n",
              "    <tr>\n",
              "      <th>8</th>\n",
              "      <td>95.007812</td>\n",
              "      <td>40.219805</td>\n",
              "      <td>0.347578</td>\n",
              "      <td>1.153164</td>\n",
              "      <td>2.770067</td>\n",
              "      <td>18.217741</td>\n",
              "      <td>7.851205</td>\n",
              "      <td>70.801938</td>\n",
              "      <td>0.0</td>\n",
              "    </tr>\n",
              "  </tbody>\n",
              "</table>\n",
              "</div>"
            ],
            "text/plain": [
              "    Mean of the integrated profile  ...  target_class\n",
              "0                       121.156250  ...           0.0\n",
              "1                        76.968750  ...           0.0\n",
              "2                       130.585938  ...           0.0\n",
              "3                       156.398438  ...           0.0\n",
              "4                        84.804688  ...           0.0\n",
              "5                       121.007812  ...           0.0\n",
              "6                        79.343750  ...           0.0\n",
              "7                       109.406250  ...           0.0\n",
              "8                        95.007812  ...           0.0\n",
              "\n",
              "[9 rows x 9 columns]"
            ]
          },
          "metadata": {
            "tags": []
          },
          "execution_count": 13
        }
      ]
    },
    {
      "cell_type": "markdown",
      "metadata": {
        "id": "7t9DCfT36hOD"
      },
      "source": [
        "I get one important insight from the above table, that is there are some values which are NAN, empty or infinite but they will be treated as outliers only.\r\n",
        "\r\n",
        "Checking the data to gain more intuitive insights, which is always a good practice."
      ]
    },
    {
      "cell_type": "code",
      "metadata": {
        "id": "AoA1pnTj_cVC",
        "outputId": "d9c75c9c-da89-4147-ef5c-b0364bc39c72",
        "colab": {
          "base_uri": "https://localhost:8080/"
        }
      },
      "source": [
        "dataset.info()"
      ],
      "execution_count": 14,
      "outputs": [
        {
          "output_type": "stream",
          "text": [
            "<class 'pandas.core.frame.DataFrame'>\n",
            "RangeIndex: 12528 entries, 0 to 12527\n",
            "Data columns (total 9 columns):\n",
            " #   Column                                         Non-Null Count  Dtype  \n",
            "---  ------                                         --------------  -----  \n",
            " 0    Mean of the integrated profile                12528 non-null  float64\n",
            " 1    Standard deviation of the integrated profile  12528 non-null  float64\n",
            " 2    Excess kurtosis of the integrated profile     10793 non-null  float64\n",
            " 3    Skewness of the integrated profile            12528 non-null  float64\n",
            " 4    Mean of the DM-SNR curve                      12528 non-null  float64\n",
            " 5    Standard deviation of the DM-SNR curve        11350 non-null  float64\n",
            " 6    Excess kurtosis of the DM-SNR curve           12528 non-null  float64\n",
            " 7    Skewness of the DM-SNR curve                  11903 non-null  float64\n",
            " 8   target_class                                   12528 non-null  float64\n",
            "dtypes: float64(9)\n",
            "memory usage: 881.0 KB\n"
          ],
          "name": "stdout"
        }
      ]
    },
    {
      "cell_type": "code",
      "metadata": {
        "id": "twhS6pby_ejR",
        "outputId": "64e45b36-1cc9-4054-da5b-2a8957626206",
        "colab": {
          "base_uri": "https://localhost:8080/"
        }
      },
      "source": [
        "dataset.isnull().sum()"
      ],
      "execution_count": 15,
      "outputs": [
        {
          "output_type": "execute_result",
          "data": {
            "text/plain": [
              " Mean of the integrated profile                     0\n",
              " Standard deviation of the integrated profile       0\n",
              " Excess kurtosis of the integrated profile       1735\n",
              " Skewness of the integrated profile                 0\n",
              " Mean of the DM-SNR curve                           0\n",
              " Standard deviation of the DM-SNR curve          1178\n",
              " Excess kurtosis of the DM-SNR curve                0\n",
              " Skewness of the DM-SNR curve                     625\n",
              "target_class                                        0\n",
              "dtype: int64"
            ]
          },
          "metadata": {
            "tags": []
          },
          "execution_count": 15
        }
      ]
    },
    {
      "cell_type": "code",
      "metadata": {
        "colab": {
          "base_uri": "https://localhost:8080/",
          "height": 348
        },
        "id": "DLx_vbBv5gwH",
        "outputId": "d8dd276d-92a2-427b-b6a7-3043beceec1d"
      },
      "source": [
        "dataset.describe(include='all')"
      ],
      "execution_count": 16,
      "outputs": [
        {
          "output_type": "execute_result",
          "data": {
            "text/html": [
              "<div>\n",
              "<style scoped>\n",
              "    .dataframe tbody tr th:only-of-type {\n",
              "        vertical-align: middle;\n",
              "    }\n",
              "\n",
              "    .dataframe tbody tr th {\n",
              "        vertical-align: top;\n",
              "    }\n",
              "\n",
              "    .dataframe thead th {\n",
              "        text-align: right;\n",
              "    }\n",
              "</style>\n",
              "<table border=\"1\" class=\"dataframe\">\n",
              "  <thead>\n",
              "    <tr style=\"text-align: right;\">\n",
              "      <th></th>\n",
              "      <th>Mean of the integrated profile</th>\n",
              "      <th>Standard deviation of the integrated profile</th>\n",
              "      <th>Excess kurtosis of the integrated profile</th>\n",
              "      <th>Skewness of the integrated profile</th>\n",
              "      <th>Mean of the DM-SNR curve</th>\n",
              "      <th>Standard deviation of the DM-SNR curve</th>\n",
              "      <th>Excess kurtosis of the DM-SNR curve</th>\n",
              "      <th>Skewness of the DM-SNR curve</th>\n",
              "      <th>target_class</th>\n",
              "    </tr>\n",
              "  </thead>\n",
              "  <tbody>\n",
              "    <tr>\n",
              "      <th>count</th>\n",
              "      <td>12528.000000</td>\n",
              "      <td>12528.000000</td>\n",
              "      <td>10793.000000</td>\n",
              "      <td>12528.000000</td>\n",
              "      <td>12528.000000</td>\n",
              "      <td>11350.000000</td>\n",
              "      <td>12528.000000</td>\n",
              "      <td>11903.000000</td>\n",
              "      <td>12528.000000</td>\n",
              "    </tr>\n",
              "    <tr>\n",
              "      <th>mean</th>\n",
              "      <td>111.041841</td>\n",
              "      <td>46.521437</td>\n",
              "      <td>0.478548</td>\n",
              "      <td>1.778431</td>\n",
              "      <td>12.674758</td>\n",
              "      <td>26.351318</td>\n",
              "      <td>8.333489</td>\n",
              "      <td>105.525779</td>\n",
              "      <td>0.092034</td>\n",
              "    </tr>\n",
              "    <tr>\n",
              "      <th>std</th>\n",
              "      <td>25.672828</td>\n",
              "      <td>6.801077</td>\n",
              "      <td>1.064708</td>\n",
              "      <td>6.208450</td>\n",
              "      <td>29.613230</td>\n",
              "      <td>19.610842</td>\n",
              "      <td>4.535783</td>\n",
              "      <td>107.399585</td>\n",
              "      <td>0.289085</td>\n",
              "    </tr>\n",
              "    <tr>\n",
              "      <th>min</th>\n",
              "      <td>5.812500</td>\n",
              "      <td>24.772042</td>\n",
              "      <td>-1.738021</td>\n",
              "      <td>-1.791886</td>\n",
              "      <td>0.213211</td>\n",
              "      <td>7.370432</td>\n",
              "      <td>-3.139270</td>\n",
              "      <td>-1.976976</td>\n",
              "      <td>0.000000</td>\n",
              "    </tr>\n",
              "    <tr>\n",
              "      <th>25%</th>\n",
              "      <td>100.871094</td>\n",
              "      <td>42.362222</td>\n",
              "      <td>0.024652</td>\n",
              "      <td>-0.188142</td>\n",
              "      <td>1.910535</td>\n",
              "      <td>14.404353</td>\n",
              "      <td>5.803063</td>\n",
              "      <td>35.199899</td>\n",
              "      <td>0.000000</td>\n",
              "    </tr>\n",
              "    <tr>\n",
              "      <th>50%</th>\n",
              "      <td>115.183594</td>\n",
              "      <td>46.931022</td>\n",
              "      <td>0.223678</td>\n",
              "      <td>0.203317</td>\n",
              "      <td>2.792642</td>\n",
              "      <td>18.412402</td>\n",
              "      <td>8.451097</td>\n",
              "      <td>83.126301</td>\n",
              "      <td>0.000000</td>\n",
              "    </tr>\n",
              "    <tr>\n",
              "      <th>75%</th>\n",
              "      <td>127.109375</td>\n",
              "      <td>50.979103</td>\n",
              "      <td>0.473125</td>\n",
              "      <td>0.932374</td>\n",
              "      <td>5.413253</td>\n",
              "      <td>28.337418</td>\n",
              "      <td>10.727927</td>\n",
              "      <td>139.997850</td>\n",
              "      <td>0.000000</td>\n",
              "    </tr>\n",
              "    <tr>\n",
              "      <th>max</th>\n",
              "      <td>189.734375</td>\n",
              "      <td>91.808628</td>\n",
              "      <td>8.069522</td>\n",
              "      <td>68.101622</td>\n",
              "      <td>222.421405</td>\n",
              "      <td>110.642211</td>\n",
              "      <td>34.539844</td>\n",
              "      <td>1191.000837</td>\n",
              "      <td>1.000000</td>\n",
              "    </tr>\n",
              "  </tbody>\n",
              "</table>\n",
              "</div>"
            ],
            "text/plain": [
              "        Mean of the integrated profile  ...  target_class\n",
              "count                     12528.000000  ...  12528.000000\n",
              "mean                        111.041841  ...      0.092034\n",
              "std                          25.672828  ...      0.289085\n",
              "min                           5.812500  ...      0.000000\n",
              "25%                         100.871094  ...      0.000000\n",
              "50%                         115.183594  ...      0.000000\n",
              "75%                         127.109375  ...      0.000000\n",
              "max                         189.734375  ...      1.000000\n",
              "\n",
              "[8 rows x 9 columns]"
            ]
          },
          "metadata": {
            "tags": []
          },
          "execution_count": 16
        }
      ]
    },
    {
      "cell_type": "markdown",
      "metadata": {
        "id": "UHf8WNsl62B9"
      },
      "source": [
        "As I could earlier see NAN values, thus going for the important statistical parameters using the describle function. I can see that although total elements are 12528 but some columns have entries less than that, that is there are empty pockets.\r\n",
        "\r\n",
        "It will be more clear if we try to form these data distribution. As I can see the describe function gives me parameters for integrated profile as well as DM-SNR curve. \r\n",
        "\r\n",
        "Physically speaking, one major parameter for Pulsars are indeed Dispersion Measure and how it behaves with Signal-to-Noise Ratio. "
      ]
    },
    {
      "cell_type": "code",
      "metadata": {
        "colab": {
          "base_uri": "https://localhost:8080/"
        },
        "id": "OT6TF-7U5v6O",
        "outputId": "24a9ef8e-19b0-4a1e-d424-a53776821096"
      },
      "source": [
        "dataset.dtypes"
      ],
      "execution_count": 17,
      "outputs": [
        {
          "output_type": "execute_result",
          "data": {
            "text/plain": [
              " Mean of the integrated profile                  float64\n",
              " Standard deviation of the integrated profile    float64\n",
              " Excess kurtosis of the integrated profile       float64\n",
              " Skewness of the integrated profile              float64\n",
              " Mean of the DM-SNR curve                        float64\n",
              " Standard deviation of the DM-SNR curve          float64\n",
              " Excess kurtosis of the DM-SNR curve             float64\n",
              " Skewness of the DM-SNR curve                    float64\n",
              "target_class                                     float64\n",
              "dtype: object"
            ]
          },
          "metadata": {
            "tags": []
          },
          "execution_count": 17
        }
      ]
    },
    {
      "cell_type": "markdown",
      "metadata": {
        "id": "3pacrR5nC13a"
      },
      "source": [
        "Thus I can now be sure of one thing, all are integer or numeric type features, there is nothing here which are textual or need to be taken care of. "
      ]
    },
    {
      "cell_type": "markdown",
      "metadata": {
        "id": "4KzY2VO28GB2"
      },
      "source": [
        "## Visualisation of data \r\n",
        "\r\n",
        "I will be using seaborn and matplotlib to make some visual insights for the data. I will import them here for now."
      ]
    },
    {
      "cell_type": "code",
      "metadata": {
        "id": "tCmv6BUO74Ns"
      },
      "source": [
        "import seaborn as sns\r\n",
        "import matplotlib.pyplot as plt"
      ],
      "execution_count": 18,
      "outputs": []
    },
    {
      "cell_type": "code",
      "metadata": {
        "colab": {
          "base_uri": "https://localhost:8080/",
          "height": 493
        },
        "id": "MQrUDwDm8bMG",
        "outputId": "4a89ef85-977c-45e9-ab62-3ca335f68b10"
      },
      "source": [
        "sns.heatmap(dataset.isnull(), yticklabels=False, cbar=False, cmap='viridis')"
      ],
      "execution_count": 19,
      "outputs": [
        {
          "output_type": "execute_result",
          "data": {
            "text/plain": [
              "<matplotlib.axes._subplots.AxesSubplot at 0x7f5231698f28>"
            ]
          },
          "metadata": {
            "tags": []
          },
          "execution_count": 19
        },
        {
          "output_type": "display_data",
          "data": {
            "image/png": "[encoded data removed]",
            "text/plain": [
              "<Figure size 432x288 with 1 Axes>"
            ]
          },
          "metadata": {
            "tags": [],
            "needs_background": "light"
          }
        }
      ]
    },
    {
      "cell_type": "markdown",
      "metadata": {
        "id": "3sCe9w1r8oCT"
      },
      "source": [
        "As suspected the three columns are indeed showing a lot of empty values\r\n",
        "\r\n",
        "Trying to find where these empty values are: "
      ]
    },
    {
      "cell_type": "code",
      "metadata": {
        "id": "_0unblsC8g5T"
      },
      "source": [
        "dataset.isnull().sum()"
      ],
      "execution_count": null,
      "outputs": []
    },
    {
      "cell_type": "code",
      "metadata": {
        "id": "To_WZJYR-UOL"
      },
      "source": [
        "dataset['target_class'].tail(10)"
      ],
      "execution_count": null,
      "outputs": []
    },
    {
      "cell_type": "markdown",
      "metadata": {
        "id": "_VLecnBLCS_0"
      },
      "source": [
        "To check how many positive candidates are there which will be actually helpful in training my model to detect pulsars."
      ]
    },
    {
      "cell_type": "code",
      "metadata": {
        "id": "d4JcViOI-Zsl"
      },
      "source": [
        "#for columns in dataset.columns[:-1]:\r\n",
        "#   print(dataset[columns])\r\n",
        "count= len(dataset[dataset['target_class']==1])\r\n",
        "print(\"Number of positive candidates: {}\".format(count))\r\n",
        "print(\"Number of negative candidates: {}\".format(len(dataset)-count))"
      ],
      "execution_count": null,
      "outputs": []
    },
    {
      "cell_type": "code",
      "metadata": {
        "id": "OvncNtd-D4qo"
      },
      "source": [
        "dataset.columns[:-1].size\r\n",
        "fig, axes = plt.subplots(nrows=len(dataset.columns[:-1]),ncols=1,  figsize=(15, 40))\r\n",
        "for i in range(len(dataset.columns[:-1])):\r\n",
        "    feature = dataset.columns[i]\r\n",
        "    plt.figure(figsize = (5, 5))\r\n",
        "    data=dataset.copy()\r\n",
        "    sns.histplot(x=data[feature].dropna(), ax=axes[i])"
      ],
      "execution_count": null,
      "outputs": []
    },
    {
      "cell_type": "markdown",
      "metadata": {
        "id": "CWR-2AiL0--_"
      },
      "source": [
        "There indeed is some need of data normalisation as although almost all data is normalised functions but still we cannot afford to have a biased data.\r\n",
        "\r\n",
        "Target Class based plotting can give us more help to know what are the trends for pulsars and what are the trends for other objects in the dataset."
      ]
    },
    {
      "cell_type": "code",
      "metadata": {
        "id": "YJD8b_Ft01ne"
      },
      "source": [
        "data_copy= dataset.copy()\r\n",
        "for features in dataset.columns[:-1]:\r\n",
        "    plt.figure(figsize = (10, 5))\r\n",
        "    sns.boxplot(x = 'target_class', y = features, data = data_copy)\r\n",
        "    plt.grid()\r\n",
        "    plt.show()"
      ],
      "execution_count": null,
      "outputs": []
    },
    {
      "cell_type": "markdown",
      "metadata": {
        "id": "PUh50_Yu4OtI"
      },
      "source": [
        "Now some data was missing, I can go in two ways, either to just ignore those data points completely, or to somehow predict those missing values to a very good accuracy and then consider that filled dataset for model.\r\n",
        "\r\n",
        "I will go for the second choice as you can already see, there are very less positive pulsars to train the model for true results, we cannot afford to discard any of those data. \r\n",
        "\r\n",
        "Perhaps if we know how much the 3 columns with missing values are related with the other parameters, we can choose to ignore that input feature in the model. \r\n",
        "\r\n",
        "For now I will try to fill in the values and consider complete data or I will try to ignore some features, its upto my experimentation."
      ]
    },
    {
      "cell_type": "code",
      "metadata": {
        "id": "8hpxtdnA4G-7"
      },
      "source": [
        "dataset.isnull().sum()\r\n",
        "len(dataset)\r\n",
        "dataset.isnull().sum()/len(dataset) * 100"
      ],
      "execution_count": null,
      "outputs": []
    },
    {
      "cell_type": "markdown",
      "metadata": {
        "id": "7HuoHfNc5edW"
      },
      "source": [
        "Excess curtosis has 13% of the values as null and Std. Deviation of DM-SNR curve is also pretty close to 10%\r\n",
        "\r\n",
        "Lets try to form a dataset with null value data points only to be computed by machine.\r\n"
      ]
    },
    {
      "cell_type": "code",
      "metadata": {
        "id": "EiA4QZgn6Abu"
      },
      "source": [
        "null_dataset= dataset[dataset.isnull().any(axis=1)]\r\n",
        "null_dataset"
      ],
      "execution_count": null,
      "outputs": []
    },
    {
      "cell_type": "code",
      "metadata": {
        "id": "ZJDjWSQQ7e6V"
      },
      "source": [
        "null_dataset.columns"
      ],
      "execution_count": null,
      "outputs": []
    },
    {
      "cell_type": "code",
      "metadata": {
        "id": "Hpw6ph7n6RcL"
      },
      "source": [
        "length=len(null_dataset)\r\n",
        "length2=len(null_dataset[null_dataset[' Excess kurtosis of the integrated profile'].isnull() & \r\n",
        "      null_dataset[' Standard deviation of the DM-SNR curve'].isnull()])\r\n",
        "length3=len(null_dataset[null_dataset[' Excess kurtosis of the integrated profile'].isnull() & \r\n",
        "      null_dataset[' Skewness of the DM-SNR curve'].isnull()])\r\n",
        "length4= len(null_dataset[null_dataset[' Skewness of the DM-SNR curve'].isnull() &  \r\n",
        "      null_dataset[' Standard deviation of the DM-SNR curve'].isnull()])\r\n",
        "length5= len(null_dataset[null_dataset[' Excess kurtosis of the integrated profile'].isnull() & \r\n",
        "      null_dataset[' Standard deviation of the DM-SNR curve'].isnull() & \r\n",
        "      null_dataset[' Skewness of the DM-SNR curve'].isnull()])\r\n",
        "print(length)\r\n",
        "print(length2)\r\n",
        "print(length3)\r\n",
        "print(length4)\r\n",
        "print(length5)"
      ],
      "execution_count": null,
      "outputs": []
    },
    {
      "cell_type": "code",
      "metadata": {
        "id": "5w_vnD1F2uTz"
      },
      "source": [
        "dataset_drop.head(15)"
      ],
      "execution_count": null,
      "outputs": []
    },
    {
      "cell_type": "markdown",
      "metadata": {
        "id": "DWNxZ0nd99MG"
      },
      "source": [
        "##DataLoader and Pytorch ready data"
      ]
    },
    {
      "cell_type": "code",
      "metadata": {
        "id": "e0-rduqy890q",
        "colab": {
          "base_uri": "https://localhost:8080/"
        },
        "outputId": "c3fa8fb7-810c-4419-e6ff-6cdc7ace3598"
      },
      "source": [
        "input_cols= [title for title in dataset_drop.columns[:-1]]\r\n",
        "output_cols= [dataset_drop.columns[-1]]\r\n",
        "input_cols\r\n",
        "print(output_cols)"
      ],
      "execution_count": 21,
      "outputs": [
        {
          "output_type": "stream",
          "text": [
            "['target_class']\n"
          ],
          "name": "stdout"
        }
      ]
    },
    {
      "cell_type": "code",
      "metadata": {
        "colab": {
          "base_uri": "https://localhost:8080/"
        },
        "id": "6rlfbSbx-Zm4",
        "outputId": "4efe2be1-9d8a-41df-9481-916ef3b63310"
      },
      "source": [
        "inputs_array = dataset_drop[input_cols].to_numpy()\r\n",
        "targets_array = dataset_drop[output_cols].to_numpy()\r\n",
        "inputs_array, targets_array"
      ],
      "execution_count": 22,
      "outputs": [
        {
          "output_type": "execute_result",
          "data": {
            "text/plain": [
              "(array([[ 1.21156250e+02,  4.83729711e+01, -1.31654890e-02,\n",
              "          3.16889632e+00,  7.44987415e+00],\n",
              "        [ 7.69687500e+01,  3.61755566e+01,  3.38871856e+00,\n",
              "          2.39966555e+00,  9.41465226e+00],\n",
              "        [ 1.30585938e+02,  5.32295335e+01, -2.97241641e-01,\n",
              "          2.74331104e+00,  8.50836378e+00],\n",
              "        ...,\n",
              "        [ 1.16031250e+02,  4.32138464e+01,  4.33087971e-01,\n",
              "          7.85117057e-01,  1.70552145e+01],\n",
              "        [ 1.35664062e+02,  4.99337494e+01, -2.26726179e-01,\n",
              "          3.85953177e+00,  7.39839490e+00],\n",
              "        [ 1.20726562e+02,  5.04722564e+01,  1.84797225e-01,\n",
              "          7.69230769e-01,  1.76622219e+01]]), array([[0.],\n",
              "        [0.],\n",
              "        [0.],\n",
              "        ...,\n",
              "        [0.],\n",
              "        [0.],\n",
              "        [0.]]))"
            ]
          },
          "metadata": {
            "tags": []
          },
          "execution_count": 22
        }
      ]
    },
    {
      "cell_type": "code",
      "metadata": {
        "colab": {
          "base_uri": "https://localhost:8080/",
          "height": 314
        },
        "id": "tTU9hiyMc55W",
        "outputId": "96ffdd59-8e4f-43b8-ad2f-eaf2e6bd09c4"
      },
      "source": [
        "dataset_drop[input_cols].describe()"
      ],
      "execution_count": 23,
      "outputs": [
        {
          "output_type": "execute_result",
          "data": {
            "text/html": [
              "<div>\n",
              "<style scoped>\n",
              "    .dataframe tbody tr th:only-of-type {\n",
              "        vertical-align: middle;\n",
              "    }\n",
              "\n",
              "    .dataframe tbody tr th {\n",
              "        vertical-align: top;\n",
              "    }\n",
              "\n",
              "    .dataframe thead th {\n",
              "        text-align: right;\n",
              "    }\n",
              "</style>\n",
              "<table border=\"1\" class=\"dataframe\">\n",
              "  <thead>\n",
              "    <tr style=\"text-align: right;\">\n",
              "      <th></th>\n",
              "      <th>Mean of the integrated profile</th>\n",
              "      <th>Standard deviation of the integrated profile</th>\n",
              "      <th>Skewness of the integrated profile</th>\n",
              "      <th>Mean of the DM-SNR curve</th>\n",
              "      <th>Excess kurtosis of the DM-SNR curve</th>\n",
              "    </tr>\n",
              "  </thead>\n",
              "  <tbody>\n",
              "    <tr>\n",
              "      <th>count</th>\n",
              "      <td>12528.000000</td>\n",
              "      <td>12528.000000</td>\n",
              "      <td>12528.000000</td>\n",
              "      <td>12528.000000</td>\n",
              "      <td>12528.000000</td>\n",
              "    </tr>\n",
              "    <tr>\n",
              "      <th>mean</th>\n",
              "      <td>111.041841</td>\n",
              "      <td>46.521437</td>\n",
              "      <td>1.778431</td>\n",
              "      <td>12.674758</td>\n",
              "      <td>8.333489</td>\n",
              "    </tr>\n",
              "    <tr>\n",
              "      <th>std</th>\n",
              "      <td>25.672828</td>\n",
              "      <td>6.801077</td>\n",
              "      <td>6.208450</td>\n",
              "      <td>29.613230</td>\n",
              "      <td>4.535783</td>\n",
              "    </tr>\n",
              "    <tr>\n",
              "      <th>min</th>\n",
              "      <td>5.812500</td>\n",
              "      <td>24.772042</td>\n",
              "      <td>-1.791886</td>\n",
              "      <td>0.213211</td>\n",
              "      <td>-3.139270</td>\n",
              "    </tr>\n",
              "    <tr>\n",
              "      <th>25%</th>\n",
              "      <td>100.871094</td>\n",
              "      <td>42.362222</td>\n",
              "      <td>-0.188142</td>\n",
              "      <td>1.910535</td>\n",
              "      <td>5.803063</td>\n",
              "    </tr>\n",
              "    <tr>\n",
              "      <th>50%</th>\n",
              "      <td>115.183594</td>\n",
              "      <td>46.931022</td>\n",
              "      <td>0.203317</td>\n",
              "      <td>2.792642</td>\n",
              "      <td>8.451097</td>\n",
              "    </tr>\n",
              "    <tr>\n",
              "      <th>75%</th>\n",
              "      <td>127.109375</td>\n",
              "      <td>50.979103</td>\n",
              "      <td>0.932374</td>\n",
              "      <td>5.413253</td>\n",
              "      <td>10.727927</td>\n",
              "    </tr>\n",
              "    <tr>\n",
              "      <th>max</th>\n",
              "      <td>189.734375</td>\n",
              "      <td>91.808628</td>\n",
              "      <td>68.101622</td>\n",
              "      <td>222.421405</td>\n",
              "      <td>34.539844</td>\n",
              "    </tr>\n",
              "  </tbody>\n",
              "</table>\n",
              "</div>"
            ],
            "text/plain": [
              "        Mean of the integrated profile  ...   Excess kurtosis of the DM-SNR curve\n",
              "count                     12528.000000  ...                          12528.000000\n",
              "mean                        111.041841  ...                              8.333489\n",
              "std                          25.672828  ...                              4.535783\n",
              "min                           5.812500  ...                             -3.139270\n",
              "25%                         100.871094  ...                              5.803063\n",
              "50%                         115.183594  ...                              8.451097\n",
              "75%                         127.109375  ...                             10.727927\n",
              "max                         189.734375  ...                             34.539844\n",
              "\n",
              "[8 rows x 5 columns]"
            ]
          },
          "metadata": {
            "tags": []
          },
          "execution_count": 23
        }
      ]
    },
    {
      "cell_type": "code",
      "metadata": {
        "id": "QgJxTqCC_6rq"
      },
      "source": [
        "import torch"
      ],
      "execution_count": 24,
      "outputs": []
    },
    {
      "cell_type": "code",
      "metadata": {
        "id": "aKgb1zqj-_5C"
      },
      "source": [
        "inputs= torch.tensor(inputs_array, dtype=torch.float32)\r\n",
        "targets= torch.tensor(targets_array, dtype=torch.float32)"
      ],
      "execution_count": 26,
      "outputs": []
    },
    {
      "cell_type": "code",
      "metadata": {
        "id": "7YQcnGBrBZEa"
      },
      "source": [
        "from torch.utils.data import DataLoader,TensorDataset,random_split"
      ],
      "execution_count": 27,
      "outputs": []
    },
    {
      "cell_type": "code",
      "metadata": {
        "id": "_ksaDWkvBL2t"
      },
      "source": [
        "data=TensorDataset(inputs, targets)"
      ],
      "execution_count": 28,
      "outputs": []
    },
    {
      "cell_type": "code",
      "metadata": {
        "id": "uAkSujYDBo6U"
      },
      "source": [
        "val_percent=0.11\r\n",
        "num_rows= len(dataset_drop)\r\n",
        "val_size = int(num_rows * val_percent)\r\n",
        "train_size = num_rows - val_size\r\n",
        "train_ds, val_ds= random_split(data,[train_size, val_size])"
      ],
      "execution_count": 29,
      "outputs": []
    },
    {
      "cell_type": "code",
      "metadata": {
        "id": "RHGG6yf2CjQs"
      },
      "source": [
        "batch_size=128"
      ],
      "execution_count": 30,
      "outputs": []
    },
    {
      "cell_type": "code",
      "metadata": {
        "id": "vjCXWDEmC5UQ"
      },
      "source": [
        "train_loader = DataLoader(train_ds, batch_size, shuffle=True)\r\n",
        "val_loader = DataLoader(val_ds, batch_size)"
      ],
      "execution_count": 31,
      "outputs": []
    },
    {
      "cell_type": "code",
      "metadata": {
        "id": "9nqHJ3UdC92f",
        "colab": {
          "base_uri": "https://localhost:8080/"
        },
        "outputId": "e2401313-20b9-4b2a-99ae-22727eda42b9"
      },
      "source": [
        "for xb, yb in train_loader:\r\n",
        "    print(\"inputs:\", xb)\r\n",
        "    print(\"targets:\", yb)\r\n",
        "    break"
      ],
      "execution_count": 32,
      "outputs": [
        {
          "output_type": "stream",
          "text": [
            "inputs: tensor([[ 1.1820e+02,  5.6377e+01, -7.3409e-01,  1.2679e+02, -9.7556e-01],\n",
            "        [ 1.3752e+02,  5.4068e+01, -3.4157e-01,  2.2508e+00,  9.6392e+00],\n",
            "        [ 1.3058e+02,  5.3087e+01, -3.2466e-01,  2.0251e+00,  1.0620e+01],\n",
            "        [ 1.1171e+02,  4.6571e+01, -6.1646e-02,  2.1396e+00,  9.3539e+00],\n",
            "        [ 1.2481e+02,  5.3153e+01, -5.6557e-03,  8.2207e+00,  5.1466e+00],\n",
            "        [ 1.3683e+02,  5.0746e+01,  1.6600e-05,  5.1865e+00,  6.0959e+00],\n",
            "        [ 8.3891e+01,  3.8127e+01,  2.1013e+00,  2.0067e+00,  1.0443e+01],\n",
            "        [ 1.3532e+02,  4.3396e+01,  4.9394e-01,  4.3813e+00,  6.1028e+00],\n",
            "        [ 1.0527e+02,  5.1276e+01, -3.2684e-01,  1.3696e+00,  1.3353e+01],\n",
            "        [ 1.2736e+02,  4.1044e+01,  7.3474e-01,  2.2834e+00,  9.6498e+00],\n",
            "        [ 1.4334e+02,  4.5785e+01, -9.5695e-02,  2.6455e+00,  8.5263e+00],\n",
            "        [ 3.5352e+01,  3.1464e+01,  2.7059e+01,  1.8728e+01,  3.1161e+00],\n",
            "        [ 1.3302e+02,  6.0887e+01, -8.6378e-01,  3.4529e+01,  2.0285e+00],\n",
            "        [ 1.0534e+02,  3.9816e+01,  8.6173e-01,  9.6656e-01,  1.5768e+01],\n",
            "        [ 1.4812e+02,  5.0607e+01,  2.2658e-02,  2.0192e+00,  9.6321e+00],\n",
            "        [ 1.3209e+02,  5.2475e+01, -2.3359e-01,  3.7742e+00,  7.2792e+00],\n",
            "        [ 1.1130e+02,  3.8719e+01,  9.2904e-01,  7.2901e+00,  4.5972e+00],\n",
            "        [ 1.1552e+02,  4.3391e+01,  7.5898e-01,  2.2550e+00,  9.5809e+00],\n",
            "        [ 1.3406e+02,  4.8935e+01, -3.4502e-01,  1.9824e+01,  2.1014e+00],\n",
            "        [ 1.2064e+02,  5.4028e+01, -1.8792e-01,  2.1965e+00,  9.0981e+00],\n",
            "        [ 1.3067e+02,  4.5987e+01,  7.4009e-02,  1.7533e+00,  1.1105e+01],\n",
            "        [ 1.2381e+02,  4.7039e+01, -6.8380e-02,  1.3085e+00,  1.4053e+01],\n",
            "        [ 1.5000e+02,  5.2630e+01, -4.6179e-01,  2.4114e+00,  9.3535e+00],\n",
            "        [ 2.9953e+01,  3.8365e+01,  1.7814e+01,  1.4146e+02,  1.9558e-01],\n",
            "        [ 1.0538e+02,  5.5371e+01, -8.6050e-01,  1.3637e+02, -7.5530e-01],\n",
            "        [ 1.1320e+02,  4.0799e+01,  6.9106e-01,  8.9465e-01,  1.6283e+01],\n",
            "        [ 1.1095e+02,  5.2536e+01, -4.2886e-01,  3.4381e+00,  7.6732e+00],\n",
            "        [ 1.3641e+02,  5.2710e+01, -4.9477e-01,  4.6551e+01,  1.2541e+00],\n",
            "        [ 1.2766e+02,  4.5832e+01, -1.0672e-02,  8.8712e-01,  1.6669e+01],\n",
            "        [ 9.1414e+01,  4.2181e+01,  7.0055e-01,  2.3863e+00,  9.3004e+00],\n",
            "        [ 1.4097e+02,  5.0125e+01, -2.8473e-02,  5.0594e+00,  6.3343e+00],\n",
            "        [ 7.6562e+01,  3.4829e+01,  6.1625e+00,  4.9528e+01,  1.1146e+00],\n",
            "        [ 1.4332e+02,  5.2363e+01, -3.9973e-01,  9.0576e+01, -1.7692e-01],\n",
            "        [ 1.5484e+02,  4.5480e+01,  2.1796e-01,  1.1492e+02, -9.6133e-01],\n",
            "        [ 1.4409e+02,  4.9292e+01, -1.8071e-01,  2.6798e+00,  7.8311e+00],\n",
            "        [ 1.1055e+02,  5.5007e+01,  4.1158e-02,  3.6396e+00,  7.2080e+00],\n",
            "        [ 1.2652e+02,  4.6620e+01,  3.9982e-01,  1.4122e+00,  1.2606e+01],\n",
            "        [ 7.9727e+01,  3.9231e+01,  3.9641e+00,  7.9239e+00,  4.9898e+00],\n",
            "        [ 1.1752e+02,  5.0458e+01,  2.9155e-02,  1.3838e+00,  1.1969e+01],\n",
            "        [ 1.0405e+02,  4.3773e+01,  2.4828e-01,  3.0092e+00,  7.7036e+00],\n",
            "        [ 1.3716e+02,  6.4611e+01, -1.2076e+00,  2.2508e+01,  2.4988e+00],\n",
            "        [ 1.0990e+02,  4.8297e+01, -2.5356e-01,  3.1212e+00,  7.3983e+00],\n",
            "        [ 1.0902e+02,  4.1886e+01,  7.0881e-01,  2.8344e+00,  8.1951e+00],\n",
            "        [ 1.0320e+01,  2.6871e+01,  6.3150e+01,  3.8888e+01,  1.6353e+00],\n",
            "        [ 1.2611e+02,  6.2065e+01, -7.0674e-01,  3.5552e+00,  7.3783e+00],\n",
            "        [ 5.3797e+01,  3.5225e+01,  1.0333e+01,  1.2570e+01,  3.8748e+00],\n",
            "        [ 1.1269e+02,  4.5734e+01,  9.7870e-01,  9.7517e+00,  4.1010e+00],\n",
            "        [ 1.0762e+02,  4.0626e+01,  1.2075e+00,  2.2525e+00,  9.7775e+00],\n",
            "        [ 1.3388e+02,  5.2494e+01, -3.9068e-01,  1.6965e+00,  1.0400e+01],\n",
            "        [ 1.2291e+02,  4.2274e+01,  3.3197e-01,  1.9464e+01,  2.7014e+00],\n",
            "        [ 1.1377e+02,  4.8303e+01,  1.3688e-01,  2.8478e+00,  9.4419e+00],\n",
            "        [ 1.0502e+02,  4.6207e+01,  3.7211e-01,  1.6154e+00,  1.1904e+01],\n",
            "        [ 9.4680e+01,  4.3938e+01,  6.7760e-01,  2.5953e+00,  8.9581e+00],\n",
            "        [ 1.2854e+02,  4.5091e+01,  5.8277e-01,  2.1915e+00,  9.6768e+00],\n",
            "        [ 9.8023e+01,  4.4202e+01,  9.3828e-01,  2.0059e+00,  9.6258e+00],\n",
            "        [ 1.1237e+02,  5.0332e+01, -1.8487e-01,  2.4540e+00,  8.7345e+00],\n",
            "        [ 2.8398e+01,  3.0121e+01,  3.4169e+01,  8.5354e+01,  8.9062e-01],\n",
            "        [ 1.3345e+02,  4.6044e+01,  5.9992e-02,  5.0100e+00,  6.0431e+00],\n",
            "        [ 1.2927e+02,  4.6306e+01,  1.8658e-01,  1.4097e+00,  1.1719e+01],\n",
            "        [ 1.2951e+02,  4.8704e+01, -1.6164e-01,  2.3077e+00,  9.1392e+00],\n",
            "        [ 1.3224e+02,  5.1301e+01, -2.6572e-01,  3.3211e+00,  7.6967e+00],\n",
            "        [ 1.1413e+02,  4.9650e+01,  1.2794e-01,  9.4732e-01,  1.8664e+01],\n",
            "        [ 1.3692e+02,  5.1167e+01, -1.9448e-01,  1.0518e+00,  1.6350e+01],\n",
            "        [ 1.2768e+02,  4.8263e+01, -6.5497e-02,  3.3344e+00,  7.7540e+00],\n",
            "        [ 1.2038e+02,  3.7898e+01,  8.4635e-01,  2.0619e+00,  9.9867e+00],\n",
            "        [ 1.2525e+02,  5.3916e+01, -3.9247e-01,  1.7960e+00,  1.1700e+01],\n",
            "        [ 1.1479e+02,  3.8492e+01,  1.9065e+00,  5.8896e+00,  6.0237e+00],\n",
            "        [ 1.4731e+02,  5.3631e+01, -3.1401e-01,  2.0042e+00,  1.0509e+01],\n",
            "        [ 1.2712e+02,  5.4768e+01, -3.8088e-01,  2.2742e+00,  9.8579e+00],\n",
            "        [ 1.1888e+02,  5.0144e+01, -2.6160e-02,  4.0067e+00,  7.1005e+00],\n",
            "        [ 4.8547e+01,  3.9363e+01,  1.1164e+01,  5.7149e+00,  6.0450e+00],\n",
            "        [ 1.4120e+02,  4.1907e+01,  3.9218e-01,  2.5485e+00,  8.9762e+00],\n",
            "        [ 1.3052e+02,  5.4220e+01, -3.4906e-01,  2.9273e+00,  8.2440e+00],\n",
            "        [ 8.2164e+01,  3.5077e+01,  4.2386e+00,  1.5283e+01,  2.9309e+00],\n",
            "        [ 1.1655e+02,  4.9768e+01, -3.5800e-01,  2.5686e+00,  8.8829e+00],\n",
            "        [ 1.2054e+02,  5.6728e+01, -5.8209e-01,  2.3905e+00,  9.4890e+00],\n",
            "        [ 1.1407e+02,  4.5075e+01,  3.8483e-01,  3.6747e+00,  7.9090e+00],\n",
            "        [ 1.6364e+02,  5.0005e+01, -2.2409e-01,  4.5903e-01,  2.2329e+01],\n",
            "        [ 1.0512e+02,  4.6117e+01,  1.1300e-01,  2.4741e+00,  9.7341e+00],\n",
            "        [ 9.9852e+01,  4.5878e+01,  4.8469e-01,  1.2726e+00,  1.2568e+01],\n",
            "        [ 1.3171e+02,  4.6805e+01, -1.7290e-01,  5.1831e+00,  6.2678e+00],\n",
            "        [ 9.6375e+01,  4.2780e+01,  7.2676e-01,  2.9030e+00,  7.8881e+00],\n",
            "        [ 1.2682e+02,  4.4990e+01,  5.7389e-01,  2.8712e+00,  8.4506e+00],\n",
            "        [ 5.8219e+01,  3.4930e+01,  1.1696e+01,  1.9099e+01,  2.9060e+00],\n",
            "        [ 1.1579e+02,  5.3743e+01, -5.2573e-01,  1.6202e+01,  3.1612e+00],\n",
            "        [ 9.4672e+01,  4.5477e+01,  6.7658e-01,  8.9967e-01,  1.5474e+01],\n",
            "        [ 1.1020e+02,  5.4475e+01, -3.1921e-02,  1.9280e+01,  2.8755e+00],\n",
            "        [ 2.0508e+01,  3.9084e+01,  2.0415e+01,  1.1185e+02,  4.0544e-01],\n",
            "        [ 1.2339e+02,  4.5035e+01,  2.0793e-01,  3.2550e+00,  7.2423e+00],\n",
            "        [ 1.4572e+02,  5.2998e+01, -1.6257e-01,  2.9908e+00,  7.5053e+00],\n",
            "        [ 1.3495e+02,  4.6698e+01, -6.9129e-02,  4.3236e+00,  6.0120e+00],\n",
            "        [ 8.7461e+01,  5.2744e+01,  6.7443e-01,  9.3961e+01,  1.2896e-01],\n",
            "        [ 7.6078e+01,  3.8756e+01,  2.3689e+00,  1.3127e+00,  1.3085e+01],\n",
            "        [ 8.7766e+01,  3.7654e+01,  2.1957e+00,  1.9457e+00,  1.0529e+01],\n",
            "        [ 1.2148e+02,  4.3161e+01,  8.3627e-01,  2.0410e+00,  9.7364e+00],\n",
            "        [ 1.1146e+02,  4.3920e+01,  5.0481e-01,  1.6070e+00,  1.1953e+01],\n",
            "        [ 9.1148e+01,  3.5620e+01,  2.6790e+00,  2.0945e+00,  9.5458e+00],\n",
            "        [ 8.4492e+01,  4.0377e+01,  1.6814e+00,  1.5535e+00,  1.2894e+01],\n",
            "        [ 1.2848e+02,  3.7582e+01,  1.1434e+00,  1.6254e+00,  1.1436e+01],\n",
            "        [ 1.0348e+02,  5.0268e+01, -1.6576e-01,  2.6145e+00,  8.4101e+00],\n",
            "        [ 8.2820e+01,  3.3025e+01,  7.9843e+00,  1.9736e+01,  2.6791e+00],\n",
            "        [ 1.3924e+02,  4.3604e+01,  1.5167e-01,  1.9830e+01,  2.3980e+00],\n",
            "        [ 1.2677e+02,  5.7060e+01, -3.9568e-01,  2.8988e+00,  8.0716e+00],\n",
            "        [ 2.7641e+01,  2.9477e+01,  4.1407e+01,  6.0325e+01,  1.1790e+00],\n",
            "        [ 1.0802e+02,  4.6417e+01,  3.2429e-01,  6.3211e-01,  1.9169e+01],\n",
            "        [ 1.0671e+02,  3.9354e+01,  9.5335e-01,  4.9707e+00,  6.1725e+00],\n",
            "        [ 1.1269e+02,  4.7184e+01,  3.6998e-01,  6.9114e+00,  4.9244e+00],\n",
            "        [ 1.2257e+02,  3.9108e+01,  6.0410e-01,  1.2015e+00,  1.3197e+01],\n",
            "        [ 1.2446e+02,  5.1110e+01, -2.4224e-01,  1.0142e+00,  1.5212e+01],\n",
            "        [ 1.2727e+02,  4.9596e+01, -9.5198e-02,  2.7425e+00,  8.2965e+00],\n",
            "        [ 1.1884e+02,  5.3113e+01, -2.5286e-01,  2.6756e+00,  8.8878e+00],\n",
            "        [ 1.3241e+02,  5.1672e+01, -3.3309e-01,  6.3202e+00,  5.2048e+00],\n",
            "        [ 1.2323e+02,  4.2570e+01,  5.9043e-01,  1.8554e+00,  1.1963e+01],\n",
            "        [ 1.4574e+02,  5.0839e+01, -7.7663e-02,  4.8554e+00,  6.2301e+00],\n",
            "        [ 1.3040e+02,  4.9185e+01, -1.8154e-01,  2.3528e+00,  9.9387e+00],\n",
            "        [ 8.7000e+01,  3.8515e+01,  1.8587e+00,  2.3052e+00,  9.7854e+00],\n",
            "        [ 1.1035e+02,  3.4456e+01,  1.9175e+00,  8.2860e-01,  1.6716e+01],\n",
            "        [ 1.2038e+02,  4.6894e+01, -5.2948e-02,  2.4448e+00,  9.1617e+00],\n",
            "        [ 1.1340e+02,  5.1176e+01,  5.2820e-01,  3.1324e+01,  1.8352e+00],\n",
            "        [ 1.5258e+02,  5.0508e+01, -3.5266e-01,  1.4967e+00,  1.1141e+01],\n",
            "        [ 1.3714e+02,  4.5624e+01,  1.2272e-01,  3.5401e+00,  7.6914e+00],\n",
            "        [ 1.0925e+02,  4.1909e+01,  7.8640e-01,  2.0502e+00,  1.1020e+01],\n",
            "        [ 1.3698e+02,  5.3741e+01, -3.1247e-01,  2.2660e+01,  2.2406e+00],\n",
            "        [ 9.2953e+01,  3.5138e+01,  4.9923e+00,  8.1522e+00,  4.6729e+00],\n",
            "        [ 1.2122e+02,  5.2572e+01, -3.1149e-01,  2.5853e+00,  1.0772e+01],\n",
            "        [ 1.5088e+02,  4.4864e+01,  2.4253e-01,  3.6873e+00,  6.9024e+00],\n",
            "        [ 1.1814e+02,  5.8562e+01, -8.0481e-01,  2.0543e+00,  1.0695e+01],\n",
            "        [ 1.2412e+02,  5.1613e+01, -5.9544e-01,  2.0778e+00,  1.0166e+01]])\n",
            "targets: tensor([[0.],\n",
            "        [0.],\n",
            "        [0.],\n",
            "        [0.],\n",
            "        [0.],\n",
            "        [0.],\n",
            "        [0.],\n",
            "        [0.],\n",
            "        [0.],\n",
            "        [0.],\n",
            "        [0.],\n",
            "        [1.],\n",
            "        [0.],\n",
            "        [0.],\n",
            "        [0.],\n",
            "        [0.],\n",
            "        [0.],\n",
            "        [0.],\n",
            "        [0.],\n",
            "        [0.],\n",
            "        [0.],\n",
            "        [0.],\n",
            "        [0.],\n",
            "        [1.],\n",
            "        [0.],\n",
            "        [0.],\n",
            "        [0.],\n",
            "        [0.],\n",
            "        [0.],\n",
            "        [0.],\n",
            "        [0.],\n",
            "        [1.],\n",
            "        [0.],\n",
            "        [0.],\n",
            "        [0.],\n",
            "        [0.],\n",
            "        [0.],\n",
            "        [1.],\n",
            "        [0.],\n",
            "        [0.],\n",
            "        [0.],\n",
            "        [0.],\n",
            "        [0.],\n",
            "        [1.],\n",
            "        [0.],\n",
            "        [1.],\n",
            "        [0.],\n",
            "        [0.],\n",
            "        [0.],\n",
            "        [0.],\n",
            "        [0.],\n",
            "        [0.],\n",
            "        [0.],\n",
            "        [0.],\n",
            "        [0.],\n",
            "        [0.],\n",
            "        [1.],\n",
            "        [0.],\n",
            "        [0.],\n",
            "        [0.],\n",
            "        [0.],\n",
            "        [0.],\n",
            "        [0.],\n",
            "        [0.],\n",
            "        [0.],\n",
            "        [0.],\n",
            "        [0.],\n",
            "        [0.],\n",
            "        [0.],\n",
            "        [0.],\n",
            "        [1.],\n",
            "        [0.],\n",
            "        [0.],\n",
            "        [0.],\n",
            "        [0.],\n",
            "        [0.],\n",
            "        [0.],\n",
            "        [0.],\n",
            "        [0.],\n",
            "        [0.],\n",
            "        [0.],\n",
            "        [0.],\n",
            "        [0.],\n",
            "        [1.],\n",
            "        [0.],\n",
            "        [0.],\n",
            "        [1.],\n",
            "        [1.],\n",
            "        [0.],\n",
            "        [0.],\n",
            "        [0.],\n",
            "        [0.],\n",
            "        [0.],\n",
            "        [0.],\n",
            "        [0.],\n",
            "        [0.],\n",
            "        [0.],\n",
            "        [0.],\n",
            "        [0.],\n",
            "        [0.],\n",
            "        [1.],\n",
            "        [0.],\n",
            "        [0.],\n",
            "        [1.],\n",
            "        [0.],\n",
            "        [0.],\n",
            "        [0.],\n",
            "        [0.],\n",
            "        [0.],\n",
            "        [0.],\n",
            "        [0.],\n",
            "        [0.],\n",
            "        [0.],\n",
            "        [0.],\n",
            "        [0.],\n",
            "        [0.],\n",
            "        [0.],\n",
            "        [0.],\n",
            "        [0.],\n",
            "        [0.],\n",
            "        [0.],\n",
            "        [0.],\n",
            "        [0.],\n",
            "        [1.],\n",
            "        [0.],\n",
            "        [0.],\n",
            "        [0.],\n",
            "        [0.]])\n"
          ],
          "name": "stdout"
        }
      ]
    },
    {
      "cell_type": "code",
      "metadata": {
        "id": "rqjEaHMOEh5i"
      },
      "source": [
        ""
      ],
      "execution_count": null,
      "outputs": []
    },
    {
      "cell_type": "code",
      "metadata": {
        "id": "Qw5atkCKEaZj",
        "outputId": "83378f7f-d45e-4ae1-add7-98cc493a2351",
        "colab": {
          "base_uri": "https://localhost:8080/"
        }
      },
      "source": [
        "yb.shape"
      ],
      "execution_count": 66,
      "outputs": [
        {
          "output_type": "execute_result",
          "data": {
            "text/plain": [
              "torch.Size([128, 1])"
            ]
          },
          "metadata": {
            "tags": []
          },
          "execution_count": 66
        }
      ]
    },
    {
      "cell_type": "code",
      "metadata": {
        "id": "pigFKCOMDXAS"
      },
      "source": [
        "input_size= len(input_cols)\r\n",
        "output_size= len(output_cols)"
      ],
      "execution_count": 34,
      "outputs": []
    },
    {
      "cell_type": "code",
      "metadata": {
        "id": "WKZqZM5qElH4"
      },
      "source": [
        "import torch.nn as nn\r\n",
        "import torch.nn.functional as F"
      ],
      "execution_count": 35,
      "outputs": []
    },
    {
      "cell_type": "code",
      "metadata": {
        "id": "wIT2iCuPY5fk"
      },
      "source": [
        "def accuracy(outputs, labels):\r\n",
        "    _, preds = torch.max(outputs, dim=1)\r\n",
        "    return torch.tensor(torch.sum(preds == labels).item() / len(preds))"
      ],
      "execution_count": 36,
      "outputs": []
    },
    {
      "cell_type": "code",
      "metadata": {
        "id": "3823SOoWEngg"
      },
      "source": [
        "class PulsarLogisticRegression(nn.Module):\r\n",
        "    def __init__(self):\r\n",
        "        super().__init__()\r\n",
        "        self.linear= nn.Linear(input_size,output_size)\r\n",
        "    def forward(self,xb):\r\n",
        "        out= self.linear(xb)\r\n",
        "        return out\r\n",
        "\r\n",
        "    def training_step(self, batch):\r\n",
        "        inputs, targets = batch \r\n",
        "        # Generate predictions\r\n",
        "        out = self(inputs)          \r\n",
        "        # Calcuate loss\r\n",
        "        loss = F.cross_entropy(out,targets)                         # fill this\r\n",
        "        return loss\r\n",
        "    \r\n",
        "    def validation_step(self, batch):\r\n",
        "        inputs, targets = batch\r\n",
        "        # Generate predictions\r\n",
        "        out = self(inputs)\r\n",
        "        # Calculate loss\r\n",
        "        targets = targets.flatten()\r\n",
        "        loss = F.cross_entropy(out,targets)\r\n",
        "        acc = accuracy(out, targets)           # Calculate accuracy\r\n",
        "        return {'val_loss': loss, 'val_acc': acc} # fill this    \r\n",
        "        \r\n",
        "    def validation_epoch_end(self, outputs):\r\n",
        "        batch_losses = [x['val_loss'] for x in outputs]\r\n",
        "        epoch_loss = torch.stack(batch_losses).mean()   # Combine losses\r\n",
        "        batch_accs = [x['val_acc'] for x in outputs]\r\n",
        "        epoch_acc = torch.stack(batch_accs).mean()      # Combine accuracies\r\n",
        "        return {'val_loss': epoch_loss.item(), 'val_acc': epoch_acc.item()}\r\n",
        "    \r\n",
        "    def epoch_end(self, epoch, result, num_epochs):\r\n",
        "        # Print result every 20th epoch\r\n",
        "        print(\"Epoch [{}], val_loss: {:.4f}, val_acc: {:.4f}\".format(epoch, result['val_loss'], result['val_acc']))\r\n"
      ],
      "execution_count": 77,
      "outputs": []
    },
    {
      "cell_type": "code",
      "metadata": {
        "id": "2NHO18ucIMiv",
        "outputId": "d3340c21-633e-430d-f546-470a79ea3afa",
        "colab": {
          "base_uri": "https://localhost:8080/"
        }
      },
      "source": [
        "targets.shape"
      ],
      "execution_count": 83,
      "outputs": [
        {
          "output_type": "execute_result",
          "data": {
            "text/plain": [
              "torch.Size([12528, 1])"
            ]
          },
          "metadata": {
            "tags": []
          },
          "execution_count": 83
        }
      ]
    },
    {
      "cell_type": "code",
      "metadata": {
        "id": "ykkhVQs4GM8U"
      },
      "source": [
        "model = PulsarLogisticRegression()"
      ],
      "execution_count": 78,
      "outputs": []
    },
    {
      "cell_type": "code",
      "metadata": {
        "colab": {
          "base_uri": "https://localhost:8080/"
        },
        "id": "duTz7fz3GiEc",
        "outputId": "2781a362-0f41-4825-faea-90d7805595f5"
      },
      "source": [
        "list(model.parameters())\n"
      ],
      "execution_count": 79,
      "outputs": [
        {
          "output_type": "execute_result",
          "data": {
            "text/plain": [
              "[Parameter containing:\n",
              " tensor([[ 0.3331, -0.2380,  0.3358, -0.2656,  0.1914]], requires_grad=True),\n",
              " Parameter containing:\n",
              " tensor([0.0566], requires_grad=True)]"
            ]
          },
          "metadata": {
            "tags": []
          },
          "execution_count": 79
        }
      ]
    },
    {
      "cell_type": "code",
      "metadata": {
        "id": "4z2vxkfSHN1T"
      },
      "source": [
        "def evaluate(model, val_loader):\r\n",
        "    outputs = [model.validation_step(batch) for batch in val_loader]\r\n",
        "    return model.validation_epoch_end(outputs)\r\n",
        "\r\n",
        "def fit(epochs, lr, model, train_loader, val_loader, opt_func=torch.optim.SGD):\r\n",
        "    history = []\r\n",
        "    optimizer = opt_func(model.parameters(), lr)\r\n",
        "    for epoch in range(epochs):\r\n",
        "        # Training Phase \r\n",
        "        for batch in train_loader:\r\n",
        "            loss = model.training_step(batch)\r\n",
        "            loss.backward()\r\n",
        "            optimizer.step()\r\n",
        "            optimizer.zero_grad()\r\n",
        "        # Validation phase\r\n",
        "        result = evaluate(model, val_loader)\r\n",
        "        model.epoch_end(epoch, result, epochs)\r\n",
        "        history.append(result)\r\n",
        "    return history"
      ],
      "execution_count": 80,
      "outputs": []
    },
    {
      "cell_type": "code",
      "metadata": {
        "colab": {
          "base_uri": "https://localhost:8080/",
          "height": 323
        },
        "id": "LwefZoXAHs1x",
        "outputId": "95513b9b-c9f8-48ec-d15e-619dd7d982bb"
      },
      "source": [
        "result = evaluate(model, val_loader) # Use the the evaluate function\r\n",
        "print(result)"
      ],
      "execution_count": 81,
      "outputs": [
        {
          "output_type": "error",
          "ename": "RuntimeError",
          "evalue": "ignored",
          "traceback": [
            "\u001b[0;31m---------------------------------------------------------------------------\u001b[0m",
            "\u001b[0;31mRuntimeError\u001b[0m                              Traceback (most recent call last)",
            "\u001b[0;32m<ipython-input-81-cd9b8a9a3b02>\u001b[0m in \u001b[0;36m<module>\u001b[0;34m()\u001b[0m\n\u001b[0;32m----> 1\u001b[0;31m \u001b[0mresult\u001b[0m \u001b[0;34m=\u001b[0m \u001b[0mevaluate\u001b[0m\u001b[0;34m(\u001b[0m\u001b[0mmodel\u001b[0m\u001b[0;34m,\u001b[0m \u001b[0mval_loader\u001b[0m\u001b[0;34m)\u001b[0m \u001b[0;31m# Use the the evaluate function\u001b[0m\u001b[0;34m\u001b[0m\u001b[0;34m\u001b[0m\u001b[0m\n\u001b[0m\u001b[1;32m      2\u001b[0m \u001b[0mprint\u001b[0m\u001b[0;34m(\u001b[0m\u001b[0mresult\u001b[0m\u001b[0;34m)\u001b[0m\u001b[0;34m\u001b[0m\u001b[0;34m\u001b[0m\u001b[0m\n",
            "\u001b[0;32m<ipython-input-80-4884b27a1db2>\u001b[0m in \u001b[0;36mevaluate\u001b[0;34m(model, val_loader)\u001b[0m\n\u001b[1;32m      1\u001b[0m \u001b[0;32mdef\u001b[0m \u001b[0mevaluate\u001b[0m\u001b[0;34m(\u001b[0m\u001b[0mmodel\u001b[0m\u001b[0;34m,\u001b[0m \u001b[0mval_loader\u001b[0m\u001b[0;34m)\u001b[0m\u001b[0;34m:\u001b[0m\u001b[0;34m\u001b[0m\u001b[0;34m\u001b[0m\u001b[0m\n\u001b[0;32m----> 2\u001b[0;31m     \u001b[0moutputs\u001b[0m \u001b[0;34m=\u001b[0m \u001b[0;34m[\u001b[0m\u001b[0mmodel\u001b[0m\u001b[0;34m.\u001b[0m\u001b[0mvalidation_step\u001b[0m\u001b[0;34m(\u001b[0m\u001b[0mbatch\u001b[0m\u001b[0;34m)\u001b[0m \u001b[0;32mfor\u001b[0m \u001b[0mbatch\u001b[0m \u001b[0;32min\u001b[0m \u001b[0mval_loader\u001b[0m\u001b[0;34m]\u001b[0m\u001b[0;34m\u001b[0m\u001b[0;34m\u001b[0m\u001b[0m\n\u001b[0m\u001b[1;32m      3\u001b[0m     \u001b[0;32mreturn\u001b[0m \u001b[0mmodel\u001b[0m\u001b[0;34m.\u001b[0m\u001b[0mvalidation_epoch_end\u001b[0m\u001b[0;34m(\u001b[0m\u001b[0moutputs\u001b[0m\u001b[0;34m)\u001b[0m\u001b[0;34m\u001b[0m\u001b[0;34m\u001b[0m\u001b[0m\n\u001b[1;32m      4\u001b[0m \u001b[0;34m\u001b[0m\u001b[0m\n\u001b[1;32m      5\u001b[0m \u001b[0;32mdef\u001b[0m \u001b[0mfit\u001b[0m\u001b[0;34m(\u001b[0m\u001b[0mepochs\u001b[0m\u001b[0;34m,\u001b[0m \u001b[0mlr\u001b[0m\u001b[0;34m,\u001b[0m \u001b[0mmodel\u001b[0m\u001b[0;34m,\u001b[0m \u001b[0mtrain_loader\u001b[0m\u001b[0;34m,\u001b[0m \u001b[0mval_loader\u001b[0m\u001b[0;34m,\u001b[0m \u001b[0mopt_func\u001b[0m\u001b[0;34m=\u001b[0m\u001b[0mtorch\u001b[0m\u001b[0;34m.\u001b[0m\u001b[0moptim\u001b[0m\u001b[0;34m.\u001b[0m\u001b[0mSGD\u001b[0m\u001b[0;34m)\u001b[0m\u001b[0;34m:\u001b[0m\u001b[0;34m\u001b[0m\u001b[0;34m\u001b[0m\u001b[0m\n",
            "\u001b[0;32m<ipython-input-80-4884b27a1db2>\u001b[0m in \u001b[0;36m<listcomp>\u001b[0;34m(.0)\u001b[0m\n\u001b[1;32m      1\u001b[0m \u001b[0;32mdef\u001b[0m \u001b[0mevaluate\u001b[0m\u001b[0;34m(\u001b[0m\u001b[0mmodel\u001b[0m\u001b[0;34m,\u001b[0m \u001b[0mval_loader\u001b[0m\u001b[0;34m)\u001b[0m\u001b[0;34m:\u001b[0m\u001b[0;34m\u001b[0m\u001b[0;34m\u001b[0m\u001b[0m\n\u001b[0;32m----> 2\u001b[0;31m     \u001b[0moutputs\u001b[0m \u001b[0;34m=\u001b[0m \u001b[0;34m[\u001b[0m\u001b[0mmodel\u001b[0m\u001b[0;34m.\u001b[0m\u001b[0mvalidation_step\u001b[0m\u001b[0;34m(\u001b[0m\u001b[0mbatch\u001b[0m\u001b[0;34m)\u001b[0m \u001b[0;32mfor\u001b[0m \u001b[0mbatch\u001b[0m \u001b[0;32min\u001b[0m \u001b[0mval_loader\u001b[0m\u001b[0;34m]\u001b[0m\u001b[0;34m\u001b[0m\u001b[0;34m\u001b[0m\u001b[0m\n\u001b[0m\u001b[1;32m      3\u001b[0m     \u001b[0;32mreturn\u001b[0m \u001b[0mmodel\u001b[0m\u001b[0;34m.\u001b[0m\u001b[0mvalidation_epoch_end\u001b[0m\u001b[0;34m(\u001b[0m\u001b[0moutputs\u001b[0m\u001b[0;34m)\u001b[0m\u001b[0;34m\u001b[0m\u001b[0;34m\u001b[0m\u001b[0m\n\u001b[1;32m      4\u001b[0m \u001b[0;34m\u001b[0m\u001b[0m\n\u001b[1;32m      5\u001b[0m \u001b[0;32mdef\u001b[0m \u001b[0mfit\u001b[0m\u001b[0;34m(\u001b[0m\u001b[0mepochs\u001b[0m\u001b[0;34m,\u001b[0m \u001b[0mlr\u001b[0m\u001b[0;34m,\u001b[0m \u001b[0mmodel\u001b[0m\u001b[0;34m,\u001b[0m \u001b[0mtrain_loader\u001b[0m\u001b[0;34m,\u001b[0m \u001b[0mval_loader\u001b[0m\u001b[0;34m,\u001b[0m \u001b[0mopt_func\u001b[0m\u001b[0;34m=\u001b[0m\u001b[0mtorch\u001b[0m\u001b[0;34m.\u001b[0m\u001b[0moptim\u001b[0m\u001b[0;34m.\u001b[0m\u001b[0mSGD\u001b[0m\u001b[0;34m)\u001b[0m\u001b[0;34m:\u001b[0m\u001b[0;34m\u001b[0m\u001b[0;34m\u001b[0m\u001b[0m\n",
            "\u001b[0;32m<ipython-input-77-a31c3b3e7214>\u001b[0m in \u001b[0;36mvalidation_step\u001b[0;34m(self, batch)\u001b[0m\n\u001b[1;32m     21\u001b[0m         \u001b[0;31m# Calculate loss\u001b[0m\u001b[0;34m\u001b[0m\u001b[0;34m\u001b[0m\u001b[0;34m\u001b[0m\u001b[0m\n\u001b[1;32m     22\u001b[0m         \u001b[0mtargets\u001b[0m \u001b[0;34m=\u001b[0m \u001b[0mtargets\u001b[0m\u001b[0;34m.\u001b[0m\u001b[0mflatten\u001b[0m\u001b[0;34m(\u001b[0m\u001b[0;34m)\u001b[0m\u001b[0;34m\u001b[0m\u001b[0;34m\u001b[0m\u001b[0m\n\u001b[0;32m---> 23\u001b[0;31m         \u001b[0mloss\u001b[0m \u001b[0;34m=\u001b[0m \u001b[0mF\u001b[0m\u001b[0;34m.\u001b[0m\u001b[0mcross_entropy\u001b[0m\u001b[0;34m(\u001b[0m\u001b[0mout\u001b[0m\u001b[0;34m,\u001b[0m\u001b[0mtargets\u001b[0m\u001b[0;34m)\u001b[0m\u001b[0;34m\u001b[0m\u001b[0;34m\u001b[0m\u001b[0m\n\u001b[0m\u001b[1;32m     24\u001b[0m         \u001b[0macc\u001b[0m \u001b[0;34m=\u001b[0m \u001b[0maccuracy\u001b[0m\u001b[0;34m(\u001b[0m\u001b[0mout\u001b[0m\u001b[0;34m,\u001b[0m \u001b[0mtargets\u001b[0m\u001b[0;34m)\u001b[0m           \u001b[0;31m# Calculate accuracy\u001b[0m\u001b[0;34m\u001b[0m\u001b[0;34m\u001b[0m\u001b[0m\n\u001b[1;32m     25\u001b[0m         \u001b[0;32mreturn\u001b[0m \u001b[0;34m{\u001b[0m\u001b[0;34m'val_loss'\u001b[0m\u001b[0;34m:\u001b[0m \u001b[0mloss\u001b[0m\u001b[0;34m,\u001b[0m \u001b[0;34m'val_acc'\u001b[0m\u001b[0;34m:\u001b[0m \u001b[0macc\u001b[0m\u001b[0;34m}\u001b[0m \u001b[0;31m# fill this\u001b[0m\u001b[0;34m\u001b[0m\u001b[0;34m\u001b[0m\u001b[0m\n",
            "\u001b[0;32m/usr/local/lib/python3.6/dist-packages/torch/nn/functional.py\u001b[0m in \u001b[0;36mcross_entropy\u001b[0;34m(input, target, weight, size_average, ignore_index, reduce, reduction)\u001b[0m\n\u001b[1;32m   2466\u001b[0m     \u001b[0;32mif\u001b[0m \u001b[0msize_average\u001b[0m \u001b[0;32mis\u001b[0m \u001b[0;32mnot\u001b[0m \u001b[0;32mNone\u001b[0m \u001b[0;32mor\u001b[0m \u001b[0mreduce\u001b[0m \u001b[0;32mis\u001b[0m \u001b[0;32mnot\u001b[0m \u001b[0;32mNone\u001b[0m\u001b[0;34m:\u001b[0m\u001b[0;34m\u001b[0m\u001b[0;34m\u001b[0m\u001b[0m\n\u001b[1;32m   2467\u001b[0m         \u001b[0mreduction\u001b[0m \u001b[0;34m=\u001b[0m \u001b[0m_Reduction\u001b[0m\u001b[0;34m.\u001b[0m\u001b[0mlegacy_get_string\u001b[0m\u001b[0;34m(\u001b[0m\u001b[0msize_average\u001b[0m\u001b[0;34m,\u001b[0m \u001b[0mreduce\u001b[0m\u001b[0;34m)\u001b[0m\u001b[0;34m\u001b[0m\u001b[0;34m\u001b[0m\u001b[0m\n\u001b[0;32m-> 2468\u001b[0;31m     \u001b[0;32mreturn\u001b[0m \u001b[0mnll_loss\u001b[0m\u001b[0;34m(\u001b[0m\u001b[0mlog_softmax\u001b[0m\u001b[0;34m(\u001b[0m\u001b[0minput\u001b[0m\u001b[0;34m,\u001b[0m \u001b[0;36m1\u001b[0m\u001b[0;34m)\u001b[0m\u001b[0;34m,\u001b[0m \u001b[0mtarget\u001b[0m\u001b[0;34m,\u001b[0m \u001b[0mweight\u001b[0m\u001b[0;34m,\u001b[0m \u001b[0;32mNone\u001b[0m\u001b[0;34m,\u001b[0m \u001b[0mignore_index\u001b[0m\u001b[0;34m,\u001b[0m \u001b[0;32mNone\u001b[0m\u001b[0;34m,\u001b[0m \u001b[0mreduction\u001b[0m\u001b[0;34m)\u001b[0m\u001b[0;34m\u001b[0m\u001b[0;34m\u001b[0m\u001b[0m\n\u001b[0m\u001b[1;32m   2469\u001b[0m \u001b[0;34m\u001b[0m\u001b[0m\n\u001b[1;32m   2470\u001b[0m \u001b[0;34m\u001b[0m\u001b[0m\n",
            "\u001b[0;32m/usr/local/lib/python3.6/dist-packages/torch/nn/functional.py\u001b[0m in \u001b[0;36mnll_loss\u001b[0;34m(input, target, weight, size_average, ignore_index, reduce, reduction)\u001b[0m\n\u001b[1;32m   2262\u001b[0m                          .format(input.size(0), target.size(0)))\n\u001b[1;32m   2263\u001b[0m     \u001b[0;32mif\u001b[0m \u001b[0mdim\u001b[0m \u001b[0;34m==\u001b[0m \u001b[0;36m2\u001b[0m\u001b[0;34m:\u001b[0m\u001b[0;34m\u001b[0m\u001b[0;34m\u001b[0m\u001b[0m\n\u001b[0;32m-> 2264\u001b[0;31m         \u001b[0mret\u001b[0m \u001b[0;34m=\u001b[0m \u001b[0mtorch\u001b[0m\u001b[0;34m.\u001b[0m\u001b[0m_C\u001b[0m\u001b[0;34m.\u001b[0m\u001b[0m_nn\u001b[0m\u001b[0;34m.\u001b[0m\u001b[0mnll_loss\u001b[0m\u001b[0;34m(\u001b[0m\u001b[0minput\u001b[0m\u001b[0;34m,\u001b[0m \u001b[0mtarget\u001b[0m\u001b[0;34m,\u001b[0m \u001b[0mweight\u001b[0m\u001b[0;34m,\u001b[0m \u001b[0m_Reduction\u001b[0m\u001b[0;34m.\u001b[0m\u001b[0mget_enum\u001b[0m\u001b[0;34m(\u001b[0m\u001b[0mreduction\u001b[0m\u001b[0;34m)\u001b[0m\u001b[0;34m,\u001b[0m \u001b[0mignore_index\u001b[0m\u001b[0;34m)\u001b[0m\u001b[0;34m\u001b[0m\u001b[0;34m\u001b[0m\u001b[0m\n\u001b[0m\u001b[1;32m   2265\u001b[0m     \u001b[0;32melif\u001b[0m \u001b[0mdim\u001b[0m \u001b[0;34m==\u001b[0m \u001b[0;36m4\u001b[0m\u001b[0;34m:\u001b[0m\u001b[0;34m\u001b[0m\u001b[0;34m\u001b[0m\u001b[0m\n\u001b[1;32m   2266\u001b[0m         \u001b[0mret\u001b[0m \u001b[0;34m=\u001b[0m \u001b[0mtorch\u001b[0m\u001b[0;34m.\u001b[0m\u001b[0m_C\u001b[0m\u001b[0;34m.\u001b[0m\u001b[0m_nn\u001b[0m\u001b[0;34m.\u001b[0m\u001b[0mnll_loss2d\u001b[0m\u001b[0;34m(\u001b[0m\u001b[0minput\u001b[0m\u001b[0;34m,\u001b[0m \u001b[0mtarget\u001b[0m\u001b[0;34m,\u001b[0m \u001b[0mweight\u001b[0m\u001b[0;34m,\u001b[0m \u001b[0m_Reduction\u001b[0m\u001b[0;34m.\u001b[0m\u001b[0mget_enum\u001b[0m\u001b[0;34m(\u001b[0m\u001b[0mreduction\u001b[0m\u001b[0;34m)\u001b[0m\u001b[0;34m,\u001b[0m \u001b[0mignore_index\u001b[0m\u001b[0;34m)\u001b[0m\u001b[0;34m\u001b[0m\u001b[0;34m\u001b[0m\u001b[0m\n",
            "\u001b[0;31mRuntimeError\u001b[0m: expected scalar type Long but found Float"
          ]
        }
      ]
    },
    {
      "cell_type": "code",
      "metadata": {
        "id": "5OweKQN6Hx2X"
      },
      "source": [
        "epochs = 10\r\n",
        "lr = 1e-1\r\n",
        "history1 = fit(epochs, lr, model, train_loader, val_loader)"
      ],
      "execution_count": null,
      "outputs": []
    },
    {
      "cell_type": "code",
      "metadata": {
        "id": "iiJp8sA_ZW_c"
      },
      "source": [
        ""
      ],
      "execution_count": null,
      "outputs": []
    }
  ]
}